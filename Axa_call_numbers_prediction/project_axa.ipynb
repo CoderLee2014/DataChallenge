{
 "cells": [
  {
   "cell_type": "code",
   "execution_count": 19,
   "metadata": {
    "collapsed": true
   },
   "outputs": [],
   "source": [
    "import pandas as pd\n",
    "import numpy as np\n",
    "import xgboost as xgb\n",
    "from sklearn.svm import SVR\n",
    "from sklearn.model_selection import KFold\n",
    "from sklearn.ensemble import RandomForestRegressor\n",
    "from sklearn.ensemble import ExtraTreesRegressor\n",
    "from sklearn import linear_model\n",
    "from sklearn.model_selection import train_test_split\n",
    "from sklearn.tree import DecisionTreeRegressor\n",
    "from sklearn.ensemble import BaggingRegressor\n",
    "from sklearn.decomposition import PCA\n",
    "from sklearn.linear_model import RANSACRegressor\n",
    "from sklearn.neural_network import MLPRegressor\n",
    "from sklearn.neighbors import KNeighborsRegressor\n",
    "from sklearn.ensemble import AdaBoostRegressor\n",
    "from statsmodels.tsa.ar_model import AR\n",
    "from sklearn.ensemble import GradientBoostingRegressor"
   ]
  },
  {
   "cell_type": "markdown",
   "metadata": {},
   "source": [
    "# READ THE DATA"
   ]
  },
  {
   "cell_type": "code",
   "execution_count": 2,
   "metadata": {
    "collapsed": true
   },
   "outputs": [],
   "source": [
    "data = pd.read_csv('train_2011_2012_2013.csv',sep=';',usecols=[0,3,4,12,81])\n",
    "sub = pd.read_csv('submission.txt',sep='\\t')\n",
    "company=list(sub.ASS_ASSIGNMENT.unique())"
   ]
  },
  {
   "cell_type": "code",
   "execution_count": 3,
   "metadata": {
    "collapsed": false
   },
   "outputs": [],
   "source": [
    "dict_dataframe = dict.fromkeys(company)\n",
    "tmp= pd.DataFrame(data={'DATE':sorted(set(data.DATE.str.cat(data.DAY_WE_DS,sep=',')))})"
   ]
  },
  {
   "cell_type": "markdown",
   "metadata": {},
   "source": [
    "# FEATURE ENGINEERING"
   ]
  },
  {
   "cell_type": "code",
   "execution_count": 4,
   "metadata": {
    "collapsed": false
   },
   "outputs": [],
   "source": [
    "for i in dict_dataframe:\n",
    "    dict_dataframe[i] = pd.DataFrame(data={'DATE':sorted(set(data.DATE))})\n",
    "    s = tmp.DATE.str.split('-')\n",
    "    year = s.str.get(0)\n",
    "    month = s.str.get(1)\n",
    "    day = s.str.get(2).str.split(' ').str.get(0)\n",
    "    time = s.str.get(2).str.split(' ').str.get(1).str.split(':')\n",
    "    time = time.str.get(0).astype(int)*2+time.str.get(1).astype(int)/30\n",
    "    s = s.str.get(2).str.split(',')\n",
    "    DAY_WE_DS = s.str.get(1)\n",
    "    dict_dataframe[i] = dict_dataframe[i].assign(year=year.values)\n",
    "    dict_dataframe[i] = dict_dataframe[i].assign(month=month.values)\n",
    "    dict_dataframe[i] = dict_dataframe[i].assign(day=day.values)\n",
    "    dict_dataframe[i] = dict_dataframe[i].assign(time=time.values)\n",
    "    dict_dataframe[i] = dict_dataframe[i].assign(DAY_WE_DS=DAY_WE_DS.values)\n",
    "    dict_dataframe[i].day = dict_dataframe[i].day.astype(int)\n",
    "    dict_dataframe[i].month = dict_dataframe[i].month.astype(int)\n",
    "    dict_dataframe[i].year = dict_dataframe[i].year.astype(int)\n",
    "for i in dict_dataframe:\n",
    "    dict_dataframe[i].DAY_WE_DS = dict_dataframe[i].DAY_WE_DS.replace(list(data.DAY_WE_DS.unique()),[1,2,7,3,4,5,6])"
   ]
  },
  {
   "cell_type": "markdown",
   "metadata": {},
   "source": [
    "## OFF-DAY"
   ]
  },
  {
   "cell_type": "code",
   "execution_count": 21,
   "metadata": {
    "collapsed": true
   },
   "outputs": [],
   "source": [
    "Jour_ferie = [(2011,1,1),(2011,1,6),(2011,2,14),(2011,3,8),(2011,4,24),\n",
    "              (2011,4,25),(2011,5,1),(2011,5,8),(2011,6,2),(2011,6,12),\n",
    "              (2011,6,13),(2011,7,14),(2011,8,15),(2011,11,1),(2011,11,11),\n",
    "              (2011,12,25),(2011,12,26),(2011,12,27),(2011,12,28),(2011,12,29),(2011,12,30),(2011,12,31)\n",
    "             ,(2012,1,1),(2012,1,6),(2012,2,14),(2012,2,21),(2012,4,8),(2012,4,9),\n",
    "              (2012,5,1),(2012,5,8),(2012,5,17),(2012,5,27),\n",
    "              (2012,5,28),(2012,7,14),(2012,8,15),(2012,11,1),(2012,11,11),\n",
    "              (2012,12,25),(2012,12,31),(2012,12,29),(2012,12,30),(2012,12,26),(2012,12,27)\n",
    "              ,(2012,12,28),(2012,12,29),(2012,12,30),(2012,12,31)\n",
    "             ,(2013,1,1),(2013,1,6),(2013,2,14),(2013,2,12),(2013,3,31),(2013,4,1),\n",
    "              (2013,5,1),(2013,5,8),(2013,5,9),(2013,5,19),\n",
    "              (2013,5,20),(2013,7,14),(2013,8,15),(2013,11,1),(2013,11,11),(2013,12,24),\n",
    "              (2013,12,25),(2013,12,26),(2013,12,27),(2013,12,28),(2013,12,29),(2013,12,30),(2013,12,31)]"
   ]
  },
  {
   "cell_type": "markdown",
   "metadata": {},
   "source": [
    "## FEATURE ENGINEERING"
   ]
  },
  {
   "cell_type": "code",
   "execution_count": 6,
   "metadata": {
    "collapsed": false
   },
   "outputs": [
    {
     "name": "stderr",
     "output_type": "stream",
     "text": [
      "/home/yuxiang/anaconda2/lib/python2.7/site-packages/ipykernel/__main__.py:8: SettingWithCopyWarning: \n",
      "A value is trying to be set on a copy of a slice from a DataFrame\n",
      "\n",
      "See the caveats in the documentation: http://pandas.pydata.org/pandas-docs/stable/indexing.html#indexing-view-versus-copy\n",
      "/home/yuxiang/anaconda2/lib/python2.7/site-packages/ipykernel/__main__.py:12: SettingWithCopyWarning: \n",
      "A value is trying to be set on a copy of a slice from a DataFrame\n",
      "\n",
      "See the caveats in the documentation: http://pandas.pydata.org/pandas-docs/stable/indexing.html#indexing-view-versus-copy\n"
     ]
    }
   ],
   "source": [
    "ferie = np.zeros(48497)\n",
    "for i in dict_dataframe:\n",
    "    dict_dataframe[i] = dict_dataframe[i].assign(ferie=ferie)\n",
    "    dict_dataframe[i] = dict_dataframe[i].assign(WEEKEND=ferie)\n",
    "for i in dict_dataframe:\n",
    "    s = dict_dataframe[i]\n",
    "    for jour in Jour_ferie:\n",
    "        s.ferie[(s.year==jour[0])&(s.month==jour[1])&(s.day==jour[2])] = 1\n",
    "    dict_dataframe[i]=s\n",
    "for i in dict_dataframe:\n",
    "    s = dict_dataframe[i]\n",
    "    s.WEEKEND[(s.DAY_WE_DS==7)|(s.DAY_WE_DS==1)]=1\n",
    "    dict_dataframe[i] =s\n",
    "for i in dict_dataframe:\n",
    "    cms = data[data.ASS_ASSIGNMENT==i]\n",
    "    cms= cms[['DATE','CSPL_RECEIVED_CALLS']]\n",
    "    cms['Counts'] = cms.groupby('DATE').transform('sum')\n",
    "    cms = cms.drop_duplicates()\n",
    "    cms = cms.sort_values('DATE')\n",
    "    cms = cms[['DATE','Counts']]\n",
    "    dict_dataframe[i] = dict_dataframe[i].merge(cms, how='left', on='DATE')\n",
    "    dict_dataframe[i] = dict_dataframe[i].fillna(0)\n",
    "for i in dict_dataframe:\n",
    "    dict_dataframe[i] = dict_dataframe[i].drop_duplicates()"
   ]
  },
  {
   "cell_type": "markdown",
   "metadata": {},
   "source": [
    "## OUTPUT 26 FILES"
   ]
  },
  {
   "cell_type": "code",
   "execution_count": 8,
   "metadata": {
    "collapsed": false
   },
   "outputs": [],
   "source": [
    "for i in dict_dataframe:\n",
    "    dict_dataframe[i].to_csv(i, sep='\\t', encoding='utf-8')"
   ]
  },
  {
   "cell_type": "code",
   "execution_count": 26,
   "metadata": {
    "collapsed": true
   },
   "outputs": [],
   "source": [
    "sub = pd.read_csv('submission.txt',sep='\\t')\n",
    "submission = sub"
   ]
  },
  {
   "cell_type": "markdown",
   "metadata": {},
   "source": [
    "FEATURE ENGINEERING FOR SUBMISSION FILE"
   ]
  },
  {
   "cell_type": "code",
   "execution_count": 27,
   "metadata": {
    "collapsed": true
   },
   "outputs": [],
   "source": [
    "s = sub.DATE.str.split(' ' ).str.get(0)\n",
    "s = pd.to_datetime(s)\n",
    "sub['DAY_WE_DS']= s.dt.weekday_name\n",
    "d = sub.DATE.str.split(' ')\n",
    "date = d.str.get(0)\n",
    "tmp = date.str.split('-')\n",
    "sub['year'] = tmp.str.get(0)\n",
    "sub['month'] = tmp.str.get(1)\n",
    "sub['day'] = tmp.str.get(2)\n",
    "time = d.str.get(1)\n",
    "time = time.str.split(':')\n",
    "sub['time'] = time.str.get(0).astype(int)*2 + time.str.get(1).astype(int)/30"
   ]
  },
  {
   "cell_type": "code",
   "execution_count": 28,
   "metadata": {
    "collapsed": true
   },
   "outputs": [],
   "source": [
    "Jour_ferie = [(2011,1,1),(2011,1,6),(2011,2,14),(2011,3,8),(2011,4,24),\n",
    "              (2011,4,25),(2011,5,1),(2011,5,8),(2011,6,2),(2011,6,12),\n",
    "              (2011,6,13),(2011,7,14),(2011,8,15),(2011,11,1),(2011,11,11),\n",
    "              (2011,12,25),(2011,12,26),(2011,12,27),(2011,12,28),(2011,12,29),(2011,12,30),(2011,12,31)\n",
    "             ,(2012,1,1),(2012,1,6),(2012,2,14),(2012,2,21),(2012,4,8),(2012,4,9),\n",
    "              (2012,5,1),(2012,5,8),(2012,5,17),(2012,5,27),\n",
    "              (2012,5,28),(2012,7,14),(2012,8,15),(2012,11,1),(2012,11,11),\n",
    "              (2012,12,25),(2012,12,31),(2012,12,29),(2012,12,30),(2012,12,26),(2012,12,27)\n",
    "              ,(2012,12,28),(2012,12,29),(2012,12,30),(2012,12,31)\n",
    "             ,(2013,1,1),(2013,1,6),(2013,2,14),(2013,2,12),(2013,3,31),(2013,4,1),\n",
    "              (2013,5,1),(2013,5,8),(2013,5,9),(2013,5,19),\n",
    "              (2013,5,20),(2013,7,14),(2013,8,15),(2013,11,1),(2013,11,11),(2013,12,24),\n",
    "              (2013,12,25),(2013,12,26),(2013,12,27),(2013,12,28),(2013,12,29),(2013,12,30),(2013,12,31)]"
   ]
  },
  {
   "cell_type": "code",
   "execution_count": 29,
   "metadata": {
    "collapsed": true
   },
   "outputs": [],
   "source": [
    "company1 = ['CMS',\n",
    " 'Crises',\n",
    " 'Gestion',\n",
    " 'Gestion Assurances',\n",
    " 'Gestion Relation Clienteles',\n",
    " 'Gestion Renault',\n",
    " 'Japon',\n",
    " 'Mécanicien',\n",
    " 'Manager',\n",
    " 'Gestion Clients',\n",
    " 'Gestion DZ',\n",
    " 'Prestataires','Nuit','RENAULT','Domicile','Regulation Medicale', 'RTC', 'SAP','Gestion - Accueil Telephonique','Médical','Services','Tech. Inter','Tech. Total']"
   ]
  },
  {
   "cell_type": "code",
   "execution_count": 30,
   "metadata": {
    "collapsed": false
   },
   "outputs": [
    {
     "name": "stderr",
     "output_type": "stream",
     "text": [
      "/home/yuxiang/anaconda2/lib/python2.7/site-packages/ipykernel/__main__.py:5: SettingWithCopyWarning: \n",
      "A value is trying to be set on a copy of a slice from a DataFrame\n",
      "\n",
      "See the caveats in the documentation: http://pandas.pydata.org/pandas-docs/stable/indexing.html#indexing-view-versus-copy\n",
      "/home/yuxiang/anaconda2/lib/python2.7/site-packages/ipykernel/__main__.py:7: SettingWithCopyWarning: \n",
      "A value is trying to be set on a copy of a slice from a DataFrame\n",
      "\n",
      "See the caveats in the documentation: http://pandas.pydata.org/pandas-docs/stable/indexing.html#indexing-view-versus-copy\n"
     ]
    }
   ],
   "source": [
    "ferie = np.zeros(82909)\n",
    "sub = sub.assign(ferie=ferie)\n",
    "sub = sub.assign(WEEKEND=ferie)\n",
    "for jour in Jour_ferie:\n",
    "    sub.ferie[(sub.year==jour[0])&(sub.month==jour[1])&(sub.day==jour[2])] = 1\n",
    "sub = sub.replace(list(sub.DAY_WE_DS.unique()),[6,7,1,2,3,4,5])\n",
    "sub.WEEKEND[(sub.DAY_WE_DS==7)|(sub.DAY_WE_DS==1)]=1\n",
    "submisson = submission[['DATE','ASS_ASSIGNMENT','prediction']]"
   ]
  },
  {
   "cell_type": "markdown",
   "metadata": {},
   "source": [
    "## TRAINNING FOR COMPANY1"
   ]
  },
  {
   "cell_type": "code",
   "execution_count": null,
   "metadata": {
    "collapsed": false
   },
   "outputs": [],
   "source": [
    "for i in company1:\n",
    "    p = pd.read_csv(i,sep='\\t')\n",
    "    p = p[p.columns[2:]]\n",
    "    x_train = p[p.columns[:7]].values\n",
    "    y_train = p.Counts.values\n",
    "    xgb= GradientBoostingRegressor(max_depth=10,n_estimators=300,loss=\"huber\",alpha=0.999)\n",
    "    xgb.fit(x_train,y_train)\n",
    "    tmp = sub[sub.ASS_ASSIGNMENT==i]\n",
    "    x_test = tmp[['year','month','day','time','DAY_WE_DS','ferie','WEEKEND']].values\n",
    "    y_pre = xgb.predict(x_test)\n",
    "    submission.prediction[submission.ASS_ASSIGNMENT==i] = y_pre"
   ]
  },
  {
   "cell_type": "markdown",
   "metadata": {},
   "source": [
    "## TRAINNING FOR TECH.AXA"
   ]
  },
  {
   "cell_type": "code",
   "execution_count": null,
   "metadata": {
    "collapsed": false
   },
   "outputs": [],
   "source": [
    "p = pd.read_csv('Tech. Axa',sep='\\t')\n",
    "p = p[p.columns[2:]]\n",
    "x_train = p[p.columns[:7]].values\n",
    "y_train = p.Counts.values\n",
    "xgb= GradientBoostingRegressor(max_depth=10,n_estimators=300,loss=\"huber\",alpha=0.999)\n",
    "xgb.fit(x_train,y_train)\n",
    "tmp = sub[sub.ASS_ASSIGNMENT=='Tech. Axa']\n",
    "x_test = tmp[['year','month','day','time','DAY_WE_DS','ferie','WEEKEND']].values\n",
    "y_pre = xgb.predict(x_test)\n",
    "submission.prediction[submission.ASS_ASSIGNMENT=='Tech. Axa'] = y_pre"
   ]
  },
  {
   "cell_type": "markdown",
   "metadata": {},
   "source": [
    "## TRAINNING FOR TELEPHONIE"
   ]
  },
  {
   "cell_type": "code",
   "execution_count": null,
   "metadata": {
    "collapsed": false
   },
   "outputs": [],
   "source": [
    "p = pd.read_csv('Téléphonie',sep='\\t')\n",
    "p = p[p.columns[2:]]\n",
    "x_train = p[p.columns[:7]].values\n",
    "y_train = p.Counts.values\n",
    "xgb= GradientBoostingRegressor(max_depth=10,n_estimators=300,loss=\"huber\",alpha=0.999)\n",
    "xgb.fit(x_train,y_train)\n",
    "tmp = sub[sub.ASS_ASSIGNMENT=='Téléphonie']\n",
    "x_test = tmp[['year','month','day','time','DAY_WE_DS','ferie','WEEKEND']].values\n",
    "y_pre = xgb.predict(x_test)\n",
    "submission.prediction[submission.ASS_ASSIGNMENT=='Téléphonie'] = y_pre"
   ]
  },
  {
   "cell_type": "markdown",
   "metadata": {},
   "source": [
    "## TRAINNING FOR CAT"
   ]
  },
  {
   "cell_type": "code",
   "execution_count": null,
   "metadata": {
    "collapsed": false
   },
   "outputs": [],
   "source": [
    "p = pd.read_csv('CAT',sep='\\t')\n",
    "p = p[p.columns[2:]]\n",
    "x_train = p[p.columns[:7]].values\n",
    "y_train = p.Counts.values\n",
    "xgb= GradientBoostingRegressor(max_depth=10,n_estimators=300,loss=\"huber\",alpha=0.999)\n",
    "xgb.fit(x_train,y_train)\n",
    "tmp = sub[sub.ASS_ASSIGNMENT=='CAT']\n",
    "x_test = tmp[['year','month','day','time','DAY_WE_DS','ferie','WEEKEND']].values\n",
    "y_pre = xgb.predict(x_test)\n",
    "submission.prediction[submission.ASS_ASSIGNMENT=='CAT'] = y_pre"
   ]
  },
  {
   "cell_type": "markdown",
   "metadata": {},
   "source": [
    "## SUBMISSION"
   ]
  },
  {
   "cell_type": "code",
   "execution_count": null,
   "metadata": {
    "collapsed": false
   },
   "outputs": [],
   "source": [
    "submission[submission.columns[:3]].to_csv('SUBMISSION.txt',index= False,sep='\\t')"
   ]
  }
 ],
 "metadata": {
  "anaconda-cloud": {},
  "kernelspec": {
   "display_name": "Python [Root]",
   "language": "python",
   "name": "Python [Root]"
  },
  "language_info": {
   "codemirror_mode": {
    "name": "ipython",
    "version": 2
   },
   "file_extension": ".py",
   "mimetype": "text/x-python",
   "name": "python",
   "nbconvert_exporter": "python",
   "pygments_lexer": "ipython2",
   "version": "2.7.12"
  }
 },
 "nbformat": 4,
 "nbformat_minor": 1
}
